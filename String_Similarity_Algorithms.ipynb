{
 "cells": [
  {
   "cell_type": "markdown",
   "metadata": {},
   "source": [
    "# String Similarity Algorithms"
   ]
  },
  {
   "cell_type": "markdown",
   "metadata": {},
   "source": [
    "## N-grams"
   ]
  },
  {
   "cell_type": "markdown",
   "metadata": {},
   "source": [
    "<img src=\"data/figure5-1.jpg\" height=\"400\" width=\"400\"> *Figure displaying the N-grams concept [1]* </img>"
   ]
  },
  {
   "cell_type": "code",
   "execution_count": 1,
   "metadata": {},
   "outputs": [],
   "source": [
    "\"\"\" This implementation adds a space to the beginning and end of the string before \n",
    "extracting the n-grams but the concept illustrated above remains the same. \"\"\"\n",
    "\n",
    "def N_grams(X, n):\n",
    "    X = X.center((len(X)+2)) # adding spaces\n",
    "    ngrams = []\n",
    "    for i, x in enumerate(X):\n",
    "        if len(X[i:]) >= n:\n",
    "            ngrams.append(X[i:i+n])\n",
    "    return(ngrams)"
   ]
  },
  {
   "cell_type": "markdown",
   "metadata": {},
   "source": [
    "### N-grams Example <br>\n",
    "\n",
    "Suppose we have two strings $X$ = `\"Apple Corporation, CA\"` and $Y$ = `\"Apple Corp, CA\"`. The corresponding **N-grams** for `n = 3` for each string would be:"
   ]
  },
  {
   "cell_type": "code",
   "execution_count": 93,
   "metadata": {},
   "outputs": [
    {
     "name": "stdout",
     "output_type": "stream",
     "text": [
      "N-grams for string X: \n",
      "\n",
      "' Ap' 'App' 'ppl' 'ple' 'le ' 'e C' ' Co' 'Cor' 'orp' 'rpo' 'por' 'ora' 'rat' 'ati' 'tio' 'ion' 'on,' 'n, ' ', C' ' CA' 'CA ' \n",
      "\n",
      "N-grams for string Y: \n",
      "\n",
      "' Ap' 'App' 'ppl' 'ple' 'le ' 'e C' ' Co' 'Cor' 'orp' 'rp,' 'p, ' ', C' ' CA' 'CA ' "
     ]
    }
   ],
   "source": [
    "X = \"Apple Corporation, CA\"\n",
    "Y = \"Apple Corp, CA\"\n",
    "\n",
    "X_n = N_grams(X, n=3)\n",
    "Y_n = N_grams(Y, n=3)\n",
    "\n",
    "print(\"N-grams for string X: \\n\")\n",
    "for ngram in X_n:\n",
    "    print(\"'\" + ngram + \"'\", end=\" \")\n",
    "    \n",
    "print(\"\\n\")  \n",
    "print(\"N-grams for string Y: \\n\")\n",
    "for ngram in Y_n:\n",
    "    print(\"'\" + ngram + \"'\", end=\" \")"
   ]
  },
  {
   "cell_type": "markdown",
   "metadata": {},
   "source": [
    "## Jaccard Similarity <br>\n",
    "\n",
    "To determine how similar two strings $X$ and $Y$ are we can transform $X$ and $Y$ into their respective N-gram sets. Then we can use a set similarity metric like **Jaccard Similarity** to measure the similarity between the two sets, that is, the similarity between corresponding strings $X$ and $Y$.\n",
    "\n",
    "<br> Formulation:\n",
    "<br>\n",
    "$$Jaccard Similarity(X_n, Y_n) =  \\frac{\\left | X_n \\cap Y_n \\right |}{\\left | X_n \\cup Y_n \\right |}$$\n",
    "\n",
    "* $X_n$ is the set of N-grams for string $X$\n",
    "* $Y_n$ is the set of N-grams for string $Y$"
   ]
  },
  {
   "cell_type": "code",
   "execution_count": 94,
   "metadata": {},
   "outputs": [],
   "source": [
    "def jaccard_sim(X, Y, n):\n",
    "    X_n = set(N_grams(X, n))\n",
    "    Y_n = set(N_grams(Y, n))\n",
    "    XinterY = X_n.intersection(Y_n)\n",
    "    XunionY = X_n.union(Y_n)\n",
    "    return(len(XinterY )/len(XunionY))"
   ]
  },
  {
   "cell_type": "markdown",
   "metadata": {},
   "source": [
    "### Jaccard Similarity Example "
   ]
  },
  {
   "cell_type": "code",
   "execution_count": 92,
   "metadata": {
    "scrolled": true
   },
   "outputs": [
    {
     "name": "stdout",
     "output_type": "stream",
     "text": [
      "Jaccard Similarity: 0.5217\n"
     ]
    }
   ],
   "source": [
    "X = 'Apple Corporation, CA'\n",
    "Y = 'Apple Corp, CA'\n",
    "\n",
    "print(\"Jaccard Similarity: {:.4f}\".format(jaccard_sim(X, Y, n=3)))"
   ]
  },
  {
   "cell_type": "markdown",
   "metadata": {},
   "source": [
    "Notice how the Jaccard Similiarty between $X$ and $Y$ changes as the value of $n$ changes."
   ]
  },
  {
   "cell_type": "code",
   "execution_count": 89,
   "metadata": {},
   "outputs": [
    {
     "name": "stdout",
     "output_type": "stream",
     "text": [
      "JaccSim(X, Y) for n = 1: 0.69\n",
      "JaccSim(X, Y) for n = 2: 0.62\n",
      "JaccSim(X, Y) for n = 3: 0.52\n",
      "JaccSim(X, Y) for n = 4: 0.43\n",
      "JaccSim(X, Y) for n = 5: 0.35\n"
     ]
    }
   ],
   "source": [
    "for i in range(1,6):\n",
    "    print(\"JaccSim(X, Y) for n = {}: {:.2f}\".format(i, jaccard_sim(X,Y, n=i)))"
   ]
  },
  {
   "cell_type": "markdown",
   "metadata": {},
   "source": [
    "## Edit (Levenshtein) Distance "
   ]
  },
  {
   "cell_type": "markdown",
   "metadata": {},
   "source": [
    "The **Edit Distance** between $X$ and $Y$ is the minimum number of edits to string $X$ to be transformed into string $Y$.\n",
    "\n",
    "Suppose the length of $X = n$, in other words, $X$ is composed of $n$ characters. Additionally, suppose the length of $Y = m$, that is, $Y$ has $m$ characters. We can define $X$ and $Y$ in terms of their characters as follows:\n",
    "\n",
    "- $X = x_0 x_1 x_2 \\ldots x_n$ <br>\n",
    "- $Y = y_0 y_1 y_2 \\ldots y_m$. \n",
    "\n",
    "> Going forward we will use $i$ to index $X$ and $j$ to index $Y$.\n",
    "\n",
    "<br> The algorithm works by considering all possible length-i prefixes of $X$ and length-j prefixes of $Y$ with the following recurence equations (we will use a matrix to store the values):\n",
    "\n",
    "<br>\n",
    "\n",
    "### Initialization <br>\n",
    "\n",
    "* $d(i, 0) = i$ <br>\n",
    "* $d(0, j) = j$ <br> <br>\n",
    "\n",
    "### Recurrence Equations <br>\n",
    "\n",
    "$\\forall i \\in \\left \\{0, 1, 2, \\ldots n \\right \\}$ <br>\n",
    "$\\quad \\quad \\forall j \\in \\left \\{0, 1, 2, \\ldots m \\right \\}$ \n",
    "\n"
   ]
  },
  {
   "cell_type": "markdown",
   "metadata": {},
   "source": [
    "$\\quad \\quad \\quad d(i, j) = \\left\\{\n",
    "        \\begin{array}{ll}\n",
    "             d(i-1, j-1) + c(x_i, y_j)  \\\\\n",
    "             d(i-1, j) + 1 \\\\\n",
    "             d(i, j-1) + 1\n",
    "        \\end{array}\n",
    "    \\right.$\n",
    "    \n",
    "<br> \n",
    " $$c(x_i, y_j) = \\left\\{\n",
    "        \\begin{array}{ll}\n",
    "             0  & \\quad  x_i = y_j \\\\\n",
    "             1 & \\quad \\text{otherwise}\n",
    "        \\end{array}\n",
    "    \\right.$$\n",
    "    \n",
    "<br> $d(n, m)$ will be the Edit Distance between $X$ and $Y$."
   ]
  },
  {
   "cell_type": "markdown",
   "metadata": {},
   "source": [
    "### Example\n",
    "\n",
    "<img src=\"data/edit_dist_example.png\" height=\"300\" width=\"300\"> *The arrows refer to the optimal alignment of the strings so those can be ignored* </img>"
   ]
  },
  {
   "cell_type": "markdown",
   "metadata": {},
   "source": [
    "### Implementation with NumPy!"
   ]
  },
  {
   "cell_type": "code",
   "execution_count": 97,
   "metadata": {},
   "outputs": [],
   "source": [
    "import numpy as np"
   ]
  },
  {
   "cell_type": "code",
   "execution_count": 125,
   "metadata": {},
   "outputs": [],
   "source": [
    "def edit_distance(X, Y):\n",
    "    n = len(X)\n",
    "    m = len(Y)\n",
    "    dist_matrix = np.zeros((n + 1, m + 1), dtype=int)\n",
    "    first_row = np.arange(m+1)\n",
    "    first_col = np.arange(n+1)\n",
    "    # initialzie the first row and col in the matrix\n",
    "    dist_matrix[0,:] = first_row\n",
    "    dist_matrix[:,0] = first_col\n",
    "    \n",
    "    for i in range(1,n+1):\n",
    "        for j in range(1,m+1):\n",
    "            upper = dist_matrix[i-1,j]\n",
    "            left = dist_matrix[i,j-1]\n",
    "            upper_left = dist_matrix[i-1, j-1]\n",
    "            \n",
    "            if X[i-1] == Y[j-1]:\n",
    "                delta = 0\n",
    "                dist_matrix[i,j] = min(upper, left, upper_left) + delta\n",
    "                    \n",
    "            else:\n",
    "                delta = 1\n",
    "                dist_matrix[i,j] = min(upper, left, upper_left) + delta\n",
    "    return(dist_matrix[n,m], dist_matrix)"
   ]
  },
  {
   "cell_type": "markdown",
   "metadata": {},
   "source": [
    "### Algorithm in Action"
   ]
  },
  {
   "cell_type": "code",
   "execution_count": 116,
   "metadata": {},
   "outputs": [
    {
     "name": "stdout",
     "output_type": "stream",
     "text": [
      "Distance Matrix: \n",
      " [[0 1 2 3 4]\n",
      " [1 0 1 2 3]\n",
      " [2 1 1 1 2]\n",
      " [3 2 1 2 2]]\n",
      "\n",
      "\n",
      "Edit Disance: 2\n"
     ]
    }
   ],
   "source": [
    "x = 'dva'\n",
    "y = 'dave'\n",
    "\n",
    "edit_dist, dist_matrix = edit_distance(x, y)\n",
    "print(\"Distance Matrix: \\n {}\".format(dist_matrix))\n",
    "print(\"\\n\")\n",
    "print(\"Edit Disance: {}\".format(edit_dist))"
   ]
  },
  {
   "cell_type": "markdown",
   "metadata": {},
   "source": [
    "## Edit Similarity <br>"
   ]
  },
  {
   "cell_type": "markdown",
   "metadata": {},
   "source": [
    "$$EditSimilarity(X, Y) = 1 - \\frac{ EditDistance(X, Y) }{ max(length(X), length(Y))}$$ <br>"
   ]
  },
  {
   "cell_type": "code",
   "execution_count": 121,
   "metadata": {},
   "outputs": [],
   "source": [
    "def edit_similarity(X,Y):\n",
    "    edit_dist = edit_distance(X,Y)[0]\n",
    "    return(1-(edit_dist/max(len(X), len(Y))))"
   ]
  },
  {
   "cell_type": "code",
   "execution_count": 124,
   "metadata": {},
   "outputs": [
    {
     "name": "stdout",
     "output_type": "stream",
     "text": [
      "Edit Similarity: 0.6667\n"
     ]
    }
   ],
   "source": [
    "X = 'Apple Corporation, CA'\n",
    "Y = 'Apple Corp, CA'\n",
    "\n",
    "print(\"Edit Similarity: {:.4f}\".format(edit_similarity(X, Y)))"
   ]
  },
  {
   "cell_type": "markdown",
   "metadata": {},
   "source": [
    "## References  <br>\n",
    "\n",
    "[1] Gustavsson, J. (1996). *Figure 5-1*. [Image] Text Categorization Using Acquaintance. http://plaza.ufl.edu/jgu/public_html/C-uppsats/cup.html"
   ]
  }
 ],
 "metadata": {
  "kernelspec": {
   "display_name": "Python 3",
   "language": "python",
   "name": "python3"
  },
  "language_info": {
   "codemirror_mode": {
    "name": "ipython",
    "version": 3
   },
   "file_extension": ".py",
   "mimetype": "text/x-python",
   "name": "python",
   "nbconvert_exporter": "python",
   "pygments_lexer": "ipython3",
   "version": "3.6.4"
  }
 },
 "nbformat": 4,
 "nbformat_minor": 2
}

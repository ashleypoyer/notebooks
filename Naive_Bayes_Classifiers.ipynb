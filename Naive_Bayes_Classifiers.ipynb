{
 "cells": [
  {
   "cell_type": "markdown",
   "metadata": {},
   "source": [
    "# Naive Bayes Classifiers"
   ]
  },
  {
   "cell_type": "markdown",
   "metadata": {},
   "source": [
    "Naive Bayes classifiers are a set of supervised learning algorithms which work by applying **Bayes Theorem**. For example, if we were interested in predicting a class label $y_j$ from a set of input features $\\left \\{ {x_1, \\dots , x_n} \\right \\}$ then Bayes Theorem would give us the probability of an observation $i$ belonging to class $y_j$ given a set of input features $x_i$ as:\n",
    "\n",
    "\n",
    "$$P(y_j \\mid x_1, \\dots, x_n) = \\frac{P(y_j) P(x_1, \\dots x_n \\mid y_j)} {P(x_1, \\dots, x_n)} \\hspace{2em}  \\text{where $x_i = \\left \\{ {x_{i1}, \\dots , x_{in}} \\right \\}$}$$\n",
    "\n",
    "Additionally, Naive Bayes classifiers make a couple big assumptions. The first assumption is that the samples are independent and identically distributed (i.i.d.). The second is a pretty *naive* assumption that the features in $x_i$ are conditionally independent of one another. However, under this assumption we can conveniently re-write $P(x_1, \\ldots, x_n \\mid y_j)$ as follows:\n",
    "\n",
    "$$P(x_i \\mid y_j) = P(x_1 \\mid y_j) \\cdot P(x_2 \\mid y_j) \\cdot \\ldots \\cdot P(x_n \\mid y_j) =  \\prod_{i=1}^{n} P( x_i \\mid y_j)$$\n",
    "\n",
    "Which leaves us with this simplification:\n",
    "                             \n",
    "$$P(y_j \\mid x_1, \\dots, x_n) = \\frac{P(y_j) \\prod_{i=1}^{n} P(x_i \\mid y_j)} {P(x_1, \\dots, x_n)}$$  \n",
    "Furthermore, since $P(x_1, \\ldots, x_n)$ is simply a scalar we can drop it from the decision rule as it will not affect anything:\n",
    "\n",
    "\n",
    "\\begin{align}\n",
    "\\begin{aligned}P(y_j \\mid x_1, \\dots, x_n) \\propto P(y_j) \\prod_{i=1}^{n} P(x_i \\mid y_j)\\\\\n",
    "\\hat{y_j} = {\\underset {y_j}{\\operatorname {arg\\,max} }}\\,P(y_j) \\prod_{i=1}^{n} P(x_i \\mid y_j)\n",
    "\\end{aligned}\n",
    "\\end{align}\n",
    "                                 \n",
    "                             \n",
    "                                 \n",
    "                                 "
   ]
  },
  {
   "cell_type": "code",
   "execution_count": 1,
   "metadata": {},
   "outputs": [],
   "source": [
    "import numpy as np\n",
    "import pandas as pd\n",
    "import matplotlib.pyplot as plt\n",
    "import seaborn as sns\n",
    "from sklearn import datasets"
   ]
  },
  {
   "cell_type": "markdown",
   "metadata": {},
   "source": [
    "##  Gaussian Naive Bayes\n",
    "\n",
    "<br> For `GaussianNB` the distribution of each feature is assumed to be Gaussian. Hence, the likelihood of each feature $x_{i}$ can be desbribed by:\n",
    "\n",
    "$$P(x_i \\mid y) = \\frac{1}{\\sqrt{2\\pi\\sigma^2_y}} \\exp\\left(-\\frac{(x_i - \\mu_y)^2}{2\\sigma^2_y}\\right)$$"
   ]
  },
  {
   "cell_type": "code",
   "execution_count": 2,
   "metadata": {
    "scrolled": true
   },
   "outputs": [
    {
     "data": {
      "text/html": [
       "<div>\n",
       "<style scoped>\n",
       "    .dataframe tbody tr th:only-of-type {\n",
       "        vertical-align: middle;\n",
       "    }\n",
       "\n",
       "    .dataframe tbody tr th {\n",
       "        vertical-align: top;\n",
       "    }\n",
       "\n",
       "    .dataframe thead th {\n",
       "        text-align: right;\n",
       "    }\n",
       "</style>\n",
       "<table border=\"1\" class=\"dataframe\">\n",
       "  <thead>\n",
       "    <tr style=\"text-align: right;\">\n",
       "      <th></th>\n",
       "      <th>sepal length (cm)</th>\n",
       "      <th>sepal width (cm)</th>\n",
       "      <th>petal length (cm)</th>\n",
       "      <th>petal width (cm)</th>\n",
       "      <th>target</th>\n",
       "    </tr>\n",
       "  </thead>\n",
       "  <tbody>\n",
       "    <tr>\n",
       "      <th>0</th>\n",
       "      <td>5.1</td>\n",
       "      <td>3.5</td>\n",
       "      <td>1.4</td>\n",
       "      <td>0.2</td>\n",
       "      <td>0.0</td>\n",
       "    </tr>\n",
       "    <tr>\n",
       "      <th>1</th>\n",
       "      <td>4.9</td>\n",
       "      <td>3.0</td>\n",
       "      <td>1.4</td>\n",
       "      <td>0.2</td>\n",
       "      <td>0.0</td>\n",
       "    </tr>\n",
       "    <tr>\n",
       "      <th>2</th>\n",
       "      <td>4.7</td>\n",
       "      <td>3.2</td>\n",
       "      <td>1.3</td>\n",
       "      <td>0.2</td>\n",
       "      <td>0.0</td>\n",
       "    </tr>\n",
       "    <tr>\n",
       "      <th>3</th>\n",
       "      <td>4.6</td>\n",
       "      <td>3.1</td>\n",
       "      <td>1.5</td>\n",
       "      <td>0.2</td>\n",
       "      <td>0.0</td>\n",
       "    </tr>\n",
       "    <tr>\n",
       "      <th>4</th>\n",
       "      <td>5.0</td>\n",
       "      <td>3.6</td>\n",
       "      <td>1.4</td>\n",
       "      <td>0.2</td>\n",
       "      <td>0.0</td>\n",
       "    </tr>\n",
       "  </tbody>\n",
       "</table>\n",
       "</div>"
      ],
      "text/plain": [
       "   sepal length (cm)  sepal width (cm)  petal length (cm)  petal width (cm)  \\\n",
       "0                5.1               3.5                1.4               0.2   \n",
       "1                4.9               3.0                1.4               0.2   \n",
       "2                4.7               3.2                1.3               0.2   \n",
       "3                4.6               3.1                1.5               0.2   \n",
       "4                5.0               3.6                1.4               0.2   \n",
       "\n",
       "   target  \n",
       "0     0.0  \n",
       "1     0.0  \n",
       "2     0.0  \n",
       "3     0.0  \n",
       "4     0.0  "
      ]
     },
     "execution_count": 2,
     "metadata": {},
     "output_type": "execute_result"
    }
   ],
   "source": [
    "from sklearn.naive_bayes import GaussianNB\n",
    "\n",
    "iris = datasets.load_iris()\n",
    "X, y = iris.data, iris.target\n",
    "names = iris.feature_names \n",
    "names.append('target')\n",
    "data = pd.DataFrame(np.c_[X,y], columns=names)\n",
    "data.head()"
   ]
  },
  {
   "cell_type": "code",
   "execution_count": 3,
   "metadata": {},
   "outputs": [
    {
     "name": "stderr",
     "output_type": "stream",
     "text": [
      "/anaconda3/lib/python3.6/site-packages/seaborn/distributions.py:218: MatplotlibDeprecationWarning: \n",
      "The 'normed' kwarg was deprecated in Matplotlib 2.1 and will be removed in 3.1. Use 'density' instead.\n",
      "  color=hist_color, **hist_kws)\n"
     ]
    },
    {
     "data": {
      "image/png": "[encoded data removed]",
      "text/plain": [
       "<Figure size 1080x360 with 3 Axes>"
      ]
     },
     "metadata": {},
     "output_type": "display_data"
    }
   ],
   "source": [
    "from scipy.stats import norm\n",
    "\n",
    "colors =[\"skyblue\", \"teal\", \"olive\"]\n",
    "f, axes = plt.subplots(1, 3, figsize=(15,5), sharex=True)\n",
    "for i, ax in enumerate(axes.flatten()):\n",
    "    sns.distplot(data.iloc[:, i] , color=colors[i], ax=ax, fit=norm, kde=False)"
   ]
  },
  {
   "cell_type": "code",
   "execution_count": 4,
   "metadata": {},
   "outputs": [
    {
     "name": "stdout",
     "output_type": "stream",
     "text": [
      "Model Accuracy: 0.96\n"
     ]
    }
   ],
   "source": [
    "gnb = GaussianNB().fit(X, y)\n",
    "\n",
    "print(\"Model Accuracy: {:.2f}\".format(gnb.score(X, y)))"
   ]
  },
  {
   "cell_type": "markdown",
   "metadata": {},
   "source": [
    "## Another example on the wine quality dataset:"
   ]
  },
  {
   "cell_type": "code",
   "execution_count": 5,
   "metadata": {},
   "outputs": [
    {
     "data": {
      "text/html": [
       "<div>\n",
       "<style scoped>\n",
       "    .dataframe tbody tr th:only-of-type {\n",
       "        vertical-align: middle;\n",
       "    }\n",
       "\n",
       "    .dataframe tbody tr th {\n",
       "        vertical-align: top;\n",
       "    }\n",
       "\n",
       "    .dataframe thead th {\n",
       "        text-align: right;\n",
       "    }\n",
       "</style>\n",
       "<table border=\"1\" class=\"dataframe\">\n",
       "  <thead>\n",
       "    <tr style=\"text-align: right;\">\n",
       "      <th></th>\n",
       "      <th>alcohol</th>\n",
       "      <th>malic_acid</th>\n",
       "      <th>ash</th>\n",
       "      <th>alcalinity_of_ash</th>\n",
       "      <th>magnesium</th>\n",
       "      <th>total_phenols</th>\n",
       "      <th>flavanoids</th>\n",
       "      <th>nonflavanoid_phenols</th>\n",
       "      <th>proanthocyanins</th>\n",
       "      <th>color_intensity</th>\n",
       "      <th>hue</th>\n",
       "      <th>od280/od315_of_diluted_wines</th>\n",
       "      <th>proline</th>\n",
       "      <th>target</th>\n",
       "    </tr>\n",
       "  </thead>\n",
       "  <tbody>\n",
       "    <tr>\n",
       "      <th>0</th>\n",
       "      <td>14.23</td>\n",
       "      <td>1.71</td>\n",
       "      <td>2.43</td>\n",
       "      <td>15.6</td>\n",
       "      <td>127.0</td>\n",
       "      <td>2.80</td>\n",
       "      <td>3.06</td>\n",
       "      <td>0.28</td>\n",
       "      <td>2.29</td>\n",
       "      <td>5.64</td>\n",
       "      <td>1.04</td>\n",
       "      <td>3.92</td>\n",
       "      <td>1065.0</td>\n",
       "      <td>0.0</td>\n",
       "    </tr>\n",
       "    <tr>\n",
       "      <th>1</th>\n",
       "      <td>13.20</td>\n",
       "      <td>1.78</td>\n",
       "      <td>2.14</td>\n",
       "      <td>11.2</td>\n",
       "      <td>100.0</td>\n",
       "      <td>2.65</td>\n",
       "      <td>2.76</td>\n",
       "      <td>0.26</td>\n",
       "      <td>1.28</td>\n",
       "      <td>4.38</td>\n",
       "      <td>1.05</td>\n",
       "      <td>3.40</td>\n",
       "      <td>1050.0</td>\n",
       "      <td>0.0</td>\n",
       "    </tr>\n",
       "    <tr>\n",
       "      <th>2</th>\n",
       "      <td>13.16</td>\n",
       "      <td>2.36</td>\n",
       "      <td>2.67</td>\n",
       "      <td>18.6</td>\n",
       "      <td>101.0</td>\n",
       "      <td>2.80</td>\n",
       "      <td>3.24</td>\n",
       "      <td>0.30</td>\n",
       "      <td>2.81</td>\n",
       "      <td>5.68</td>\n",
       "      <td>1.03</td>\n",
       "      <td>3.17</td>\n",
       "      <td>1185.0</td>\n",
       "      <td>0.0</td>\n",
       "    </tr>\n",
       "    <tr>\n",
       "      <th>3</th>\n",
       "      <td>14.37</td>\n",
       "      <td>1.95</td>\n",
       "      <td>2.50</td>\n",
       "      <td>16.8</td>\n",
       "      <td>113.0</td>\n",
       "      <td>3.85</td>\n",
       "      <td>3.49</td>\n",
       "      <td>0.24</td>\n",
       "      <td>2.18</td>\n",
       "      <td>7.80</td>\n",
       "      <td>0.86</td>\n",
       "      <td>3.45</td>\n",
       "      <td>1480.0</td>\n",
       "      <td>0.0</td>\n",
       "    </tr>\n",
       "    <tr>\n",
       "      <th>4</th>\n",
       "      <td>13.24</td>\n",
       "      <td>2.59</td>\n",
       "      <td>2.87</td>\n",
       "      <td>21.0</td>\n",
       "      <td>118.0</td>\n",
       "      <td>2.80</td>\n",
       "      <td>2.69</td>\n",
       "      <td>0.39</td>\n",
       "      <td>1.82</td>\n",
       "      <td>4.32</td>\n",
       "      <td>1.04</td>\n",
       "      <td>2.93</td>\n",
       "      <td>735.0</td>\n",
       "      <td>0.0</td>\n",
       "    </tr>\n",
       "  </tbody>\n",
       "</table>\n",
       "</div>"
      ],
      "text/plain": [
       "   alcohol  malic_acid   ash  alcalinity_of_ash  magnesium  total_phenols  \\\n",
       "0    14.23        1.71  2.43               15.6      127.0           2.80   \n",
       "1    13.20        1.78  2.14               11.2      100.0           2.65   \n",
       "2    13.16        2.36  2.67               18.6      101.0           2.80   \n",
       "3    14.37        1.95  2.50               16.8      113.0           3.85   \n",
       "4    13.24        2.59  2.87               21.0      118.0           2.80   \n",
       "\n",
       "   flavanoids  nonflavanoid_phenols  proanthocyanins  color_intensity   hue  \\\n",
       "0        3.06                  0.28             2.29             5.64  1.04   \n",
       "1        2.76                  0.26             1.28             4.38  1.05   \n",
       "2        3.24                  0.30             2.81             5.68  1.03   \n",
       "3        3.49                  0.24             2.18             7.80  0.86   \n",
       "4        2.69                  0.39             1.82             4.32  1.04   \n",
       "\n",
       "   od280/od315_of_diluted_wines  proline  target  \n",
       "0                          3.92   1065.0     0.0  \n",
       "1                          3.40   1050.0     0.0  \n",
       "2                          3.17   1185.0     0.0  \n",
       "3                          3.45   1480.0     0.0  \n",
       "4                          2.93    735.0     0.0  "
      ]
     },
     "execution_count": 5,
     "metadata": {},
     "output_type": "execute_result"
    }
   ],
   "source": [
    "wine = datasets.load_wine()\n",
    "X, y = wine.data, wine.target\n",
    "names = wine.feature_names\n",
    "names.append('target')\n",
    "data = pd.DataFrame(np.c_[X,y], columns=names)\n",
    "data.head()"
   ]
  },
  {
   "cell_type": "code",
   "execution_count": 6,
   "metadata": {},
   "outputs": [
    {
     "name": "stdout",
     "output_type": "stream",
     "text": [
      "Model Accuracy: 0.99\n"
     ]
    }
   ],
   "source": [
    "gnb = GaussianNB().fit(X, y)\n",
    "\n",
    "print(\"Model Accuracy: {:.2f}\".format(gnb.score(X, y)))"
   ]
  },
  {
   "cell_type": "markdown",
   "metadata": {},
   "source": [
    "##  Bernoulli Naive Bayes \n",
    "\n",
    "<br>\n",
    "\n",
    "For `BernoulliNB` the data is assumed to follow a multivariate Bernoulli distribution. Meaning, each feature is expressed as a binary vector. Thus, we have:\n",
    "\n",
    "<br>\n",
    "$$P(x_i \\mid y) = P(i \\mid y) x_i + (1 - P(i \\mid y)) (1 - x_i)$$"
   ]
  },
  {
   "cell_type": "code",
   "execution_count": 7,
   "metadata": {},
   "outputs": [],
   "source": [
    "from sklearn.naive_bayes import BernoulliNB"
   ]
  },
  {
   "cell_type": "code",
   "execution_count": 8,
   "metadata": {},
   "outputs": [],
   "source": [
    "from sklearn.datasets import make_classification\n",
    "\n",
    "X, y = make_classification(n_samples=200, n_features=2, n_informative=2, n_redundant=0, \n",
    "                           random_state=12)"
   ]
  },
  {
   "cell_type": "code",
   "execution_count": 9,
   "metadata": {},
   "outputs": [
    {
     "data": {
      "text/plain": [
       "<matplotlib.collections.PathCollection at 0x1a1da60550>"
      ]
     },
     "execution_count": 9,
     "metadata": {},
     "output_type": "execute_result"
    },
    {
     "data": {
      "image/png": "[encoded data removed]",
      "text/plain": [
       "<Figure size 648x504 with 1 Axes>"
      ]
     },
     "metadata": {},
     "output_type": "display_data"
    }
   ],
   "source": [
    "fig, ax = plt.subplots(figsize=(9,7))\n",
    "ax.scatter(X[:,0], X[:,1], c=y, s=60)"
   ]
  },
  {
   "cell_type": "code",
   "execution_count": 10,
   "metadata": {},
   "outputs": [],
   "source": [
    "from sklearn.model_selection import train_test_split\n",
    "\n",
    "X_train, X_test, y_train, y_test = train_test_split(X, y, random_state=0)"
   ]
  },
  {
   "cell_type": "code",
   "execution_count": 11,
   "metadata": {},
   "outputs": [
    {
     "name": "stdout",
     "output_type": "stream",
     "text": [
      "0.9533333333333334\n",
      "0.9\n"
     ]
    }
   ],
   "source": [
    "bnb = BernoulliNB(binarize=0.0)\n",
    "bnb.fit(X_train, y_train)\n",
    "\n",
    "print(bnb.score(X_train, y_train))\n",
    "print(bnb.score(X_test, y_test))"
   ]
  },
  {
   "cell_type": "markdown",
   "metadata": {},
   "source": [
    "### Visualizing Predictions of the BernoulliNB Classifier"
   ]
  },
  {
   "cell_type": "code",
   "execution_count": 12,
   "metadata": {},
   "outputs": [
    {
     "data": {
      "text/plain": [
       "[Text(0, 0.5, 'Feature 1'), Text(0.5, 0, 'Feature 0')]"
      ]
     },
     "execution_count": 12,
     "metadata": {},
     "output_type": "execute_result"
    },
    {
     "data": {
      "image/png": "[encoded data removed]",
      "text/plain": [
       "<Figure size 648x504 with 1 Axes>"
      ]
     },
     "metadata": {},
     "output_type": "display_data"
    }
   ],
   "source": [
    "from matplotlib.colors import ListedColormap\n",
    "cmap = ListedColormap(['purple', 'yellow'])\n",
    "\n",
    "fig, ax = plt.subplots(figsize=(9, 7))\n",
    "ax.scatter(X_train[:,0], X_train[:,1], c=y_train, s=70, marker='o')\n",
    "y_pred = bnb.predict(X_test)\n",
    "ax.scatter(X_test[:,0], X_test[:,1], c=y_pred, s=70, marker='^')\n",
    "\n",
    "h = 0.01 # step size in the mesh\n",
    "xmin, xmax = ax.get_xlim()\n",
    "ymin, ymax = ax.get_ylim()\n",
    "x_array = np.arange(xmin, xmax, h)\n",
    "y_array = np.arange(ymin, ymax, h)\n",
    "xx, yy = np.meshgrid(x_array, y_array)\n",
    "Z = bnb.predict(np.c_[xx.ravel(), yy.ravel()])\n",
    "Z = Z.reshape(xx.shape)\n",
    "ax.contourf(xx, yy, Z, cmap=cmap, alpha=0.2)\n",
    "ax.contour(xx, yy, Z, colors='k', linewidths=0.2)\n",
    "ax.set(xlabel=\"Feature 0\", ylabel=\"Feature 1\")"
   ]
  },
  {
   "cell_type": "code",
   "execution_count": 13,
   "metadata": {},
   "outputs": [
    {
     "data": {
      "text/plain": [
       "[Text(0.5, 0, 'Feature 1')]"
      ]
     },
     "execution_count": 13,
     "metadata": {},
     "output_type": "execute_result"
    },
    {
     "data": {
      "image/png": "[encoded data removed]",
      "text/plain": [
       "<Figure size 576x504 with 1 Axes>"
      ]
     },
     "metadata": {},
     "output_type": "display_data"
    }
   ],
   "source": [
    "from sklearn.preprocessing import Binarizer\n",
    "\n",
    "transformer = Binarizer().fit(X[:,1].reshape(-1,1))\n",
    "\n",
    "binary_features = transformer.transform(X[:,1].reshape(-1,1))\n",
    "\n",
    "fig, ax = plt.subplots(figsize=(8,7))\n",
    "sns.distplot(binary_features, hist=False, color=\"k\")\n",
    "ax.set(title=\"Distribution of Feature 1 (Bernoulli)\")\n",
    "ax.set(xlabel=\"Feature 1\")"
   ]
  },
  {
   "cell_type": "markdown",
   "metadata": {},
   "source": [
    "## Multinomial Naive Bayes \n",
    "\n",
    "<br> \n",
    "For `MultinomialNB` each feature is assumed to follow a multinomial distribtuion. The distribution is parametrized by vectors $\\theta_y = (\\theta_{y1},\\ldots,\\theta_{yn})$ where $\\theta_{yi} = {P}(x_i \\mid y_j)$ for each feature $i$ given $n$ features.\n",
    "\n",
    "<br>\n",
    "The likelihood of each feature in the feature vector, that is, ${P}(x_i \\mid y_j)$ can be approximated via the maximum likelihood estimate (MLE) which is equivalent to the relative frequency count. Therefore, ${P}(x_i \\mid y_j)$ can be calculated as:\n",
    "\n",
    "\n",
    "<br> $${P}(x_i \\mid y_j) = \\frac{N_{x_i, y_j}}{N_{y_j}}$$\n",
    "\n",
    "<br> \n",
    "* $N_{x_i, y_j}$ = the number of times feature $i$ appears in samples from class $y_j$\n",
    "* $N_{y_j}$ = the total count of all features in class $y_j$\n",
    "\n",
    "### <br> <font color=k> Additive Smoothing </font>\n",
    "\n",
    "<br>\n",
    "\n",
    "**The Zero-Frequency Problem**: If a feature does not exist in the training set $T$ then the class conditional probability will be 0 and as a result ${P}(x_i \\mid y_j)$ will be 0. The solution to this problem is called **additive smoothing**. A smoothing term $\\alpha$ is added to ${P}(x_i \\mid y_j)$ to prevent obtaining a 0 probability for a given feature.\n",
    "\n",
    "<br>\n",
    "To summarize we have:"
   ]
  },
  {
   "cell_type": "markdown",
   "metadata": {},
   "source": [
    "\n",
    "\n",
    "\\begin{align*}\n",
    "\\theta_y = (\\theta_{y1},\\ldots,\\theta_{yn}) &&\\text{$n$ = # of features}\n",
    "\\end{align*}\n",
    "\n",
    "$$\\theta_{yi} = {P}(x_i \\mid y_j) = \\frac{N_{x_i, y_j}+\\alpha}{N_{y_j} + \\alpha \\, n}  \\quad \\text{for $i \\in \\left \\{1,2, \\ldots, n \\right \\}$}$$\n",
    "\n",
    "<br>\n",
    "Setting $\\alpha = 1$ is known as Laplace smoothing and setting $\\alpha < 1$ is known as Lidstone smoothing."
   ]
  },
  {
   "cell_type": "markdown",
   "metadata": {},
   "source": [
    "# Popular Multinomial NB Use-Case: Text Classification"
   ]
  },
  {
   "cell_type": "markdown",
   "metadata": {},
   "source": [
    "There are two common use cases for the Multinomial Naive Bayes variant which involve document classifications tasks. The first uses term-frequency vectors and the second uses Term frequency-inverse document frequency vectors. These will be elaborated on in the following sections.\n",
    "\n",
    "Before classifying any documents one needs to determine which words in the collection of documents are important for the classifier to consider, in other words, what are the informative words that would allow your classifier to best discriminate between the documents? This list of terms is commonly referred to as the **vocabulary** in document classification.\n",
    "\n",
    "> ### <font color=dimgrey> **Term Frequency (Tf Vectors)** </font>\n",
    "\n",
    "Suppose we are given a vocabulary with $m$ terms and a collection $D$ containing $n$ documents. Then, a tf-vector for a document $d_i$ is simply a vector which holds the term frequency $\\forall t_j \\in \\text{vocab}$ appearing in document $d_i$\n",
    "\n",
    "To summarize:\n",
    "\n",
    "$$\\text{vocab} = \\left \\{ t_1, t_2, \\cdots, t_m \\right \\}$$\n",
    "\n",
    "$$D = {d_i} \\quad \\text{for}\\, i \\in \\left \\{1,2, \\cdots, n \\right \\}$$\n",
    "\n",
    "$$tf(t_j,d_i) = \\textrm{number of times term $t_j$ appears in document $d_i$}$$\n",
    "\n",
    "$$\\big \\langle tf_{d_i} \\big \\rangle = \\big \\langle tf(t_j,d_i) \\big \\rangle \\quad \\text{for}\\, j \\in \\left \\{1,2, \\cdots, m \\right \\}$$"
   ]
  },
  {
   "cell_type": "markdown",
   "metadata": {},
   "source": [
    "The feature matrix, $X$, for a collection of documents $D$ using tf-vectors would be:\n",
    "\n",
    "<br>\n",
    "\n",
    "$$X = \\begin{bmatrix}\n",
    "\\big \\langle tf(t_j,d_1) \\big \\rangle  \\\\ \n",
    "\\big \\langle tf(t_j,d_2) \\big \\rangle   \\\\ \n",
    "\\vdots \\\\\n",
    "\\big \\langle tf(t_j,d_n) \\big \\rangle    \n",
    "\\end{bmatrix} \\quad \\text{note that $X$ is an $n \\times m$ matrix}$$"
   ]
  },
  {
   "cell_type": "markdown",
   "metadata": {},
   "source": [
    "## Example: Classifying Amazon Reviews"
   ]
  },
  {
   "cell_type": "markdown",
   "metadata": {},
   "source": [
    "> ### <font color=dimgrey> **Term Frequency - Inverse Document Frequency  (Tf-idf Vectors)**</font>\n",
    "\n",
    "An obvious issue that arises when using simple term frequency counts to represent a document is that documents with higher frequencies of very common words will be inaccurately emphasized. Tf-idf resolves this by weighting each term by its inverse document frequency (idf), that is, how often that term appears in the collection of documents. As a result, the term frequency of terms that are less common will be given a higher weight and the term frequency of more common terms will recieve a smaller weight.\n",
    "\n",
    "Let the inverse document frequency of some term $t_j$ be defined as:\n",
    "\n",
    "$$idf(t_j) = \\log \\left ( \\frac{N_d}{N_d(t_j)} \\right )$$\n",
    "\n",
    "<br> \n",
    "* $N_{d}$ = the number of documents\n",
    "* $N_{d}(t_j)$ = the number of documents that contain term $t_j$\n",
    "\n",
    "<br>\n",
    "\n",
    "Then the Tf-idf vector for a document $d_i$ is given by:\n",
    "\n",
    "$$\\text{Tf-idf} = \\big \\langle tf(t_j,d_i) \\cdot idf(t_j) \\big \\rangle \\quad \\text{for}\\, j \\in \\left \\{1,2, \\cdots, m \\right \\}$$\n",
    "\n"
   ]
  },
  {
   "cell_type": "code",
   "execution_count": 14,
   "metadata": {},
   "outputs": [
    {
     "name": "stdout",
     "output_type": "stream",
     "text": [
      "/Users/ashleypoyer/github/notebooks/data\n"
     ]
    }
   ],
   "source": [
    "cd data"
   ]
  },
  {
   "cell_type": "code",
   "execution_count": 15,
   "metadata": {},
   "outputs": [
    {
     "name": "stdout",
     "output_type": "stream",
     "text": [
      "\u001b[31mamazon_cells_labelled.csv\u001b[m\u001b[m*\r\n"
     ]
    }
   ],
   "source": [
    "ls"
   ]
  },
  {
   "cell_type": "code",
   "execution_count": 16,
   "metadata": {},
   "outputs": [],
   "source": [
    "amazon_reviews = pd.read_csv(\"amazon_cells_labelled.csv\", header=None)"
   ]
  },
  {
   "cell_type": "code",
   "execution_count": 17,
   "metadata": {
    "scrolled": true
   },
   "outputs": [
    {
     "data": {
      "text/html": [
       "<div>\n",
       "<style scoped>\n",
       "    .dataframe tbody tr th:only-of-type {\n",
       "        vertical-align: middle;\n",
       "    }\n",
       "\n",
       "    .dataframe tbody tr th {\n",
       "        vertical-align: top;\n",
       "    }\n",
       "\n",
       "    .dataframe thead th {\n",
       "        text-align: right;\n",
       "    }\n",
       "</style>\n",
       "<table border=\"1\" class=\"dataframe\">\n",
       "  <thead>\n",
       "    <tr style=\"text-align: right;\">\n",
       "      <th></th>\n",
       "      <th>0</th>\n",
       "      <th>1</th>\n",
       "      <th>2</th>\n",
       "      <th>3</th>\n",
       "      <th>4</th>\n",
       "      <th>5</th>\n",
       "    </tr>\n",
       "  </thead>\n",
       "  <tbody>\n",
       "    <tr>\n",
       "      <th>0</th>\n",
       "      <td>So there is no way for me to plug it in here i...</td>\n",
       "      <td>0</td>\n",
       "      <td>NaN</td>\n",
       "      <td>NaN</td>\n",
       "      <td>NaN</td>\n",
       "      <td>NaN</td>\n",
       "    </tr>\n",
       "    <tr>\n",
       "      <th>1</th>\n",
       "      <td>Good case</td>\n",
       "      <td>Excellent value.</td>\n",
       "      <td>1</td>\n",
       "      <td>NaN</td>\n",
       "      <td>NaN</td>\n",
       "      <td>NaN</td>\n",
       "    </tr>\n",
       "    <tr>\n",
       "      <th>2</th>\n",
       "      <td>Great for the jawbone.</td>\n",
       "      <td>1</td>\n",
       "      <td>NaN</td>\n",
       "      <td>NaN</td>\n",
       "      <td>NaN</td>\n",
       "      <td>NaN</td>\n",
       "    </tr>\n",
       "    <tr>\n",
       "      <th>3</th>\n",
       "      <td>Tied to charger for conversations lasting more...</td>\n",
       "      <td>0</td>\n",
       "      <td>NaN</td>\n",
       "      <td>NaN</td>\n",
       "      <td>NaN</td>\n",
       "      <td>NaN</td>\n",
       "    </tr>\n",
       "    <tr>\n",
       "      <th>4</th>\n",
       "      <td>The mic is great.</td>\n",
       "      <td>1</td>\n",
       "      <td>NaN</td>\n",
       "      <td>NaN</td>\n",
       "      <td>NaN</td>\n",
       "      <td>NaN</td>\n",
       "    </tr>\n",
       "    <tr>\n",
       "      <th>5</th>\n",
       "      <td>I have to jiggle the plug to get it to line up...</td>\n",
       "      <td>0</td>\n",
       "      <td>NaN</td>\n",
       "      <td>NaN</td>\n",
       "      <td>NaN</td>\n",
       "      <td>NaN</td>\n",
       "    </tr>\n",
       "    <tr>\n",
       "      <th>6</th>\n",
       "      <td>If you have several dozen or several hundred c...</td>\n",
       "      <td>then imagine the fun of sending each of them ...</td>\n",
       "      <td>0</td>\n",
       "      <td>NaN</td>\n",
       "      <td>NaN</td>\n",
       "      <td>NaN</td>\n",
       "    </tr>\n",
       "    <tr>\n",
       "      <th>7</th>\n",
       "      <td>If you are Razr owner...you must have this!</td>\n",
       "      <td>1</td>\n",
       "      <td>NaN</td>\n",
       "      <td>NaN</td>\n",
       "      <td>NaN</td>\n",
       "      <td>NaN</td>\n",
       "    </tr>\n",
       "    <tr>\n",
       "      <th>8</th>\n",
       "      <td>Needless to say</td>\n",
       "      <td>I wasted my money.</td>\n",
       "      <td>0</td>\n",
       "      <td>NaN</td>\n",
       "      <td>NaN</td>\n",
       "      <td>NaN</td>\n",
       "    </tr>\n",
       "    <tr>\n",
       "      <th>9</th>\n",
       "      <td>What a waste of money and time!.</td>\n",
       "      <td>0</td>\n",
       "      <td>NaN</td>\n",
       "      <td>NaN</td>\n",
       "      <td>NaN</td>\n",
       "      <td>NaN</td>\n",
       "    </tr>\n",
       "    <tr>\n",
       "      <th>10</th>\n",
       "      <td>And the sound quality is great.</td>\n",
       "      <td>1</td>\n",
       "      <td>NaN</td>\n",
       "      <td>NaN</td>\n",
       "      <td>NaN</td>\n",
       "      <td>NaN</td>\n",
       "    </tr>\n",
       "    <tr>\n",
       "      <th>11</th>\n",
       "      <td>He was very impressed when going from the orig...</td>\n",
       "      <td>1</td>\n",
       "      <td>NaN</td>\n",
       "      <td>NaN</td>\n",
       "      <td>NaN</td>\n",
       "      <td>NaN</td>\n",
       "    </tr>\n",
       "    <tr>\n",
       "      <th>12</th>\n",
       "      <td>If the two were seperated by a mere 5+ ft I st...</td>\n",
       "      <td>0</td>\n",
       "      <td>NaN</td>\n",
       "      <td>NaN</td>\n",
       "      <td>NaN</td>\n",
       "      <td>NaN</td>\n",
       "    </tr>\n",
       "    <tr>\n",
       "      <th>13</th>\n",
       "      <td>Very good quality though</td>\n",
       "      <td>1</td>\n",
       "      <td>NaN</td>\n",
       "      <td>NaN</td>\n",
       "      <td>NaN</td>\n",
       "      <td>NaN</td>\n",
       "    </tr>\n",
       "    <tr>\n",
       "      <th>14</th>\n",
       "      <td>The design is very odd</td>\n",
       "      <td>as the ear \"clip\" is not very comfortable at ...</td>\n",
       "      <td>0</td>\n",
       "      <td>NaN</td>\n",
       "      <td>NaN</td>\n",
       "      <td>NaN</td>\n",
       "    </tr>\n",
       "  </tbody>\n",
       "</table>\n",
       "</div>"
      ],
      "text/plain": [
       "                                                    0  \\\n",
       "0   So there is no way for me to plug it in here i...   \n",
       "1                                           Good case   \n",
       "2                              Great for the jawbone.   \n",
       "3   Tied to charger for conversations lasting more...   \n",
       "4                                   The mic is great.   \n",
       "5   I have to jiggle the plug to get it to line up...   \n",
       "6   If you have several dozen or several hundred c...   \n",
       "7         If you are Razr owner...you must have this!   \n",
       "8                                     Needless to say   \n",
       "9                    What a waste of money and time!.   \n",
       "10                    And the sound quality is great.   \n",
       "11  He was very impressed when going from the orig...   \n",
       "12  If the two were seperated by a mere 5+ ft I st...   \n",
       "13                           Very good quality though   \n",
       "14                             The design is very odd   \n",
       "\n",
       "                                                    1    2    3    4   5  \n",
       "0                                                   0  NaN  NaN  NaN NaN  \n",
       "1                                    Excellent value.    1  NaN  NaN NaN  \n",
       "2                                                   1  NaN  NaN  NaN NaN  \n",
       "3                                                   0  NaN  NaN  NaN NaN  \n",
       "4                                                   1  NaN  NaN  NaN NaN  \n",
       "5                                                   0  NaN  NaN  NaN NaN  \n",
       "6    then imagine the fun of sending each of them ...    0  NaN  NaN NaN  \n",
       "7                                                   1  NaN  NaN  NaN NaN  \n",
       "8                                  I wasted my money.    0  NaN  NaN NaN  \n",
       "9                                                   0  NaN  NaN  NaN NaN  \n",
       "10                                                  1  NaN  NaN  NaN NaN  \n",
       "11                                                  1  NaN  NaN  NaN NaN  \n",
       "12                                                  0  NaN  NaN  NaN NaN  \n",
       "13                                                  1  NaN  NaN  NaN NaN  \n",
       "14   as the ear \"clip\" is not very comfortable at ...    0  NaN  NaN NaN  "
      ]
     },
     "execution_count": 17,
     "metadata": {},
     "output_type": "execute_result"
    }
   ],
   "source": [
    "amazon_reviews.head(15)"
   ]
  },
  {
   "cell_type": "markdown",
   "metadata": {},
   "source": [
    "### <font color=k> A little bit of data cleaning </font>"
   ]
  },
  {
   "cell_type": "code",
   "execution_count": 18,
   "metadata": {},
   "outputs": [],
   "source": [
    "X = []\n",
    "y = []\n",
    "\n",
    "for i, record in enumerate(amazon_reviews.iterrows()):\n",
    "    for j in range(len(record[1])):\n",
    "        if (pd.isnull(record[1][j]) == True):\n",
    "            sentiment = record[1][j-1]\n",
    "            reviews = record[1][:j-1]\n",
    "            break\n",
    "        elif j == (len(record[1]) - 1):\n",
    "            sentiment = record[1][j]\n",
    "            reviews = record[1][:j]\n",
    "    \n",
    "    reviews = reviews.str.cat(sep='')\n",
    "    X.append(reviews)\n",
    "    y.append(sentiment)"
   ]
  },
  {
   "cell_type": "code",
   "execution_count": 19,
   "metadata": {},
   "outputs": [],
   "source": [
    "ar = pd.DataFrame({'review': X, 'sentiment': y}, index=np.arange(len(amazon_reviews.index)))\n",
    "ar[\"review\"] = ar['review'].str.replace('[^\\w\\s]','').str.lower()\n",
    "ar.sentiment = ar.sentiment.astype(int)"
   ]
  },
  {
   "cell_type": "code",
   "execution_count": 20,
   "metadata": {
    "scrolled": true
   },
   "outputs": [
    {
     "data": {
      "text/html": [
       "<div>\n",
       "<style scoped>\n",
       "    .dataframe tbody tr th:only-of-type {\n",
       "        vertical-align: middle;\n",
       "    }\n",
       "\n",
       "    .dataframe tbody tr th {\n",
       "        vertical-align: top;\n",
       "    }\n",
       "\n",
       "    .dataframe thead th {\n",
       "        text-align: right;\n",
       "    }\n",
       "</style>\n",
       "<table border=\"1\" class=\"dataframe\">\n",
       "  <thead>\n",
       "    <tr style=\"text-align: right;\">\n",
       "      <th></th>\n",
       "      <th>review</th>\n",
       "      <th>sentiment</th>\n",
       "    </tr>\n",
       "  </thead>\n",
       "  <tbody>\n",
       "    <tr>\n",
       "      <th>0</th>\n",
       "      <td>so there is no way for me to plug it in here i...</td>\n",
       "      <td>0</td>\n",
       "    </tr>\n",
       "    <tr>\n",
       "      <th>1</th>\n",
       "      <td>good case excellent value</td>\n",
       "      <td>1</td>\n",
       "    </tr>\n",
       "    <tr>\n",
       "      <th>2</th>\n",
       "      <td>great for the jawbone</td>\n",
       "      <td>1</td>\n",
       "    </tr>\n",
       "    <tr>\n",
       "      <th>3</th>\n",
       "      <td>tied to charger for conversations lasting more...</td>\n",
       "      <td>0</td>\n",
       "    </tr>\n",
       "    <tr>\n",
       "      <th>4</th>\n",
       "      <td>the mic is great</td>\n",
       "      <td>1</td>\n",
       "    </tr>\n",
       "    <tr>\n",
       "      <th>5</th>\n",
       "      <td>i have to jiggle the plug to get it to line up...</td>\n",
       "      <td>0</td>\n",
       "    </tr>\n",
       "    <tr>\n",
       "      <th>6</th>\n",
       "      <td>if you have several dozen or several hundred c...</td>\n",
       "      <td>0</td>\n",
       "    </tr>\n",
       "    <tr>\n",
       "      <th>7</th>\n",
       "      <td>if you are razr owneryou must have this</td>\n",
       "      <td>1</td>\n",
       "    </tr>\n",
       "    <tr>\n",
       "      <th>8</th>\n",
       "      <td>needless to say i wasted my money</td>\n",
       "      <td>0</td>\n",
       "    </tr>\n",
       "    <tr>\n",
       "      <th>9</th>\n",
       "      <td>what a waste of money and time</td>\n",
       "      <td>0</td>\n",
       "    </tr>\n",
       "  </tbody>\n",
       "</table>\n",
       "</div>"
      ],
      "text/plain": [
       "                                              review  sentiment\n",
       "0  so there is no way for me to plug it in here i...          0\n",
       "1                          good case excellent value          1\n",
       "2                              great for the jawbone          1\n",
       "3  tied to charger for conversations lasting more...          0\n",
       "4                                   the mic is great          1\n",
       "5  i have to jiggle the plug to get it to line up...          0\n",
       "6  if you have several dozen or several hundred c...          0\n",
       "7            if you are razr owneryou must have this          1\n",
       "8                  needless to say i wasted my money          0\n",
       "9                     what a waste of money and time          0"
      ]
     },
     "execution_count": 20,
     "metadata": {},
     "output_type": "execute_result"
    }
   ],
   "source": [
    "ar.head(10)"
   ]
  },
  {
   "cell_type": "markdown",
   "metadata": {},
   "source": [
    "### <font color=k> Creating the Term Frequency Feature Matrix (X_tf) </font>"
   ]
  },
  {
   "cell_type": "code",
   "execution_count": 21,
   "metadata": {},
   "outputs": [],
   "source": [
    "reviews = ar.review\n",
    "y = ar.sentiment\n",
    "\n",
    "# split reviews into terms\n",
    "review_words = [review.split() for review in reviews]\n",
    "\n",
    "\n",
    "vocab = sorted(set(sum(review_words, [])))\n",
    "vocab_dict = {k:i for i,k in enumerate(vocab)}\n",
    "\n",
    "X_tf = np.zeros((len(reviews), len(vocab)), dtype=int)\n",
    "\n",
    "for i, review in enumerate(review_words):\n",
    "    for word in review:\n",
    "        X_tf[i, vocab_dict[word]] += 1\n",
    "\n",
    "X = X_tf"
   ]
  },
  {
   "cell_type": "code",
   "execution_count": 22,
   "metadata": {},
   "outputs": [],
   "source": [
    "from sklearn.model_selection import train_test_split\n",
    "\n",
    "X_train, X_test, y_train, y_test = train_test_split(X, y, random_state=42, test_size=0.2)"
   ]
  },
  {
   "cell_type": "code",
   "execution_count": 23,
   "metadata": {},
   "outputs": [
    {
     "name": "stdout",
     "output_type": "stream",
     "text": [
      "0.9675\n",
      "0.84\n"
     ]
    }
   ],
   "source": [
    "from sklearn.naive_bayes import MultinomialNB\n",
    "clf = MultinomialNB()\n",
    "clf.fit(X_train, y_train)\n",
    "\n",
    "print(clf.score(X_train, y_train))\n",
    "print(clf.score(X_test, y_test))"
   ]
  },
  {
   "cell_type": "markdown",
   "metadata": {},
   "source": [
    "> ### <font color=dimgrey> **Term Frequency - Inverse Document Frequency  (Tf-idf Vectors)**</font>\n",
    "\n",
    "An obvious issue that arises when using simple term frequency counts to represent a document is that documents with higher frequencies of very common words will be inaccurately emphasized. Tf-idf resolves this by weighting each term by its inverse document frequency (idf), that is, how often that term appears in the collection of documents. As a result, the term frequency of terms that are less common will be given a higher weight and the term frequency of more common terms will recieve a smaller weight.\n",
    "\n",
    "Let the inverse document frequency of some term $t_j$ be defined as:\n",
    "\n",
    "$$idf(t_j) = \\log \\left ( \\frac{N_d}{N_d(t_j)} \\right )$$\n",
    "\n",
    "<br> \n",
    "* $N_{d}$ = the number of documents\n",
    "* $N_{d}(t_j)$ = the number of documents that contain term $t_j$\n",
    "\n",
    "<br>\n",
    "\n",
    "Then the Tf-idf vector for a document $d_i$ is given by:\n",
    "\n",
    "$$\\text{Tf-idf} = \\big \\langle tf(t_j,d_i) \\cdot idf(t_j) \\big \\rangle \\quad \\text{for}\\, j \\in \\left \\{1,2, \\cdots, m \\right \\}$$"
   ]
  },
  {
   "cell_type": "markdown",
   "metadata": {},
   "source": [
    "### <font color=k> Creating the Tf-idf Feature Matrix (X_tfidf) </font>"
   ]
  },
  {
   "cell_type": "code",
   "execution_count": 24,
   "metadata": {},
   "outputs": [],
   "source": [
    "idf = np.log(X_tf.shape[0]/X_tf.astype(bool).sum(axis=0))\n",
    "\n",
    "X_tfidf = X_tf * idf\n",
    "X = X_tfidf\n",
    "\n",
    "X_train, X_test, y_train, y_test = train_test_split(X, y, random_state=42, test_size=0.2)"
   ]
  },
  {
   "cell_type": "code",
   "execution_count": 25,
   "metadata": {},
   "outputs": [
    {
     "name": "stdout",
     "output_type": "stream",
     "text": [
      "0.98625\n",
      "0.805\n"
     ]
    }
   ],
   "source": [
    "clf = MultinomialNB()\n",
    "clf.fit(X_train, y_train)\n",
    "\n",
    "print(clf.score(X_train, y_train))\n",
    "print(clf.score(X_test, y_test))"
   ]
  }
 ],
 "metadata": {
  "kernelspec": {
   "display_name": "Python 3",
   "language": "python",
   "name": "python3"
  },
  "language_info": {
   "codemirror_mode": {
    "name": "ipython",
    "version": 3
   },
   "file_extension": ".py",
   "mimetype": "text/x-python",
   "name": "python",
   "nbconvert_exporter": "python",
   "pygments_lexer": "ipython3",
   "version": "3.6.4"
  }
 },
 "nbformat": 4,
 "nbformat_minor": 2
}
